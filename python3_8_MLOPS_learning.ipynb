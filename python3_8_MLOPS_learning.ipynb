{
 "cells": [
  {
   "cell_type": "markdown",
   "id": "41270232",
   "metadata": {},
   "source": [
    "# End-to-End Pipeline Development, Deployment, and MLOps"
   ]
  },
  {
   "cell_type": "markdown",
   "id": "9fdb71a5",
   "metadata": {},
   "source": [
    "questions:\n",
    "    1. tuye setup 2 ta comment kardam. chera kar nakard\n",
    "    2. y cell ahs ke s[0].column ro bayad nemayesh bede vase man nadad\n",
    "    3. bekhunam dar mored setup pycaret\n",
    "    4. ba sckit khodam bezanam hamin to (Future)"
   ]
  },
  {
   "cell_type": "markdown",
   "id": "c4a0762e",
   "metadata": {},
   "source": [
    "Our objective is to build and deploy a web application where the demographic and health information of a patient is entered into a web-based form which then outputs a predicted charge amount.\n"
   ]
  },
  {
   "cell_type": "code",
   "execution_count": 2,
   "id": "3a5b71a0",
   "metadata": {},
   "outputs": [],
   "source": [
    "# Import libraries\n",
    "import numpy as np\n",
    "import pandas as pd\n",
    "from pycaret.regression import *\n",
    "import requests\n"
   ]
  },
  {
   "cell_type": "code",
   "execution_count": 4,
   "id": "a7768d07",
   "metadata": {},
   "outputs": [
    {
     "name": "stdout",
     "output_type": "stream",
     "text": [
      "      age     sex     bmi  children smoker     region      charges\n",
      "0      19  female  27.900         0    yes  southwest  16884.92400\n",
      "1      18    male  33.770         1     no  southeast   1725.55230\n",
      "2      28    male  33.000         3     no  southeast   4449.46200\n",
      "3      33    male  22.705         0     no  northwest  21984.47061\n",
      "4      32    male  28.880         0     no  northwest   3866.85520\n",
      "...   ...     ...     ...       ...    ...        ...          ...\n",
      "1333   50    male  30.970         3     no  northwest  10600.54830\n",
      "1334   18  female  31.920         0     no  northeast   2205.98080\n",
      "1335   18  female  36.850         0     no  southeast   1629.83350\n",
      "1336   21  female  25.800         0     no  southwest   2007.94500\n",
      "1337   61  female  29.070         0    yes  northwest  29141.36030\n",
      "\n",
      "[1338 rows x 7 columns]\n"
     ]
    }
   ],
   "source": [
    "# Load data\n",
    "\n",
    "path = \"./Practicing MLOPS/insurance.csv\"\n",
    "insurance = pd.read_csv(path)\n",
    "print(insurance)\n",
    "\n"
   ]
  },
  {
   "cell_type": "code",
   "execution_count": 5,
   "id": "7270a6cc",
   "metadata": {},
   "outputs": [
    {
     "data": {
      "text/html": [
       "<style type=\"text/css\">\n",
       "#T_42c03_row10_col1, #T_42c03_row16_col1, #T_42c03_row18_col1 {\n",
       "  background-color: lightgreen;\n",
       "}\n",
       "</style>\n",
       "<table id=\"T_42c03\">\n",
       "  <thead>\n",
       "    <tr>\n",
       "      <th class=\"blank level0\" >&nbsp;</th>\n",
       "      <th id=\"T_42c03_level0_col0\" class=\"col_heading level0 col0\" >Description</th>\n",
       "      <th id=\"T_42c03_level0_col1\" class=\"col_heading level0 col1\" >Value</th>\n",
       "    </tr>\n",
       "  </thead>\n",
       "  <tbody>\n",
       "    <tr>\n",
       "      <th id=\"T_42c03_level0_row0\" class=\"row_heading level0 row0\" >0</th>\n",
       "      <td id=\"T_42c03_row0_col0\" class=\"data row0 col0\" >Session id</td>\n",
       "      <td id=\"T_42c03_row0_col1\" class=\"data row0 col1\" >123</td>\n",
       "    </tr>\n",
       "    <tr>\n",
       "      <th id=\"T_42c03_level0_row1\" class=\"row_heading level0 row1\" >1</th>\n",
       "      <td id=\"T_42c03_row1_col0\" class=\"data row1 col0\" >Target</td>\n",
       "      <td id=\"T_42c03_row1_col1\" class=\"data row1 col1\" >charges</td>\n",
       "    </tr>\n",
       "    <tr>\n",
       "      <th id=\"T_42c03_level0_row2\" class=\"row_heading level0 row2\" >2</th>\n",
       "      <td id=\"T_42c03_row2_col0\" class=\"data row2 col0\" >Target type</td>\n",
       "      <td id=\"T_42c03_row2_col1\" class=\"data row2 col1\" >Regression</td>\n",
       "    </tr>\n",
       "    <tr>\n",
       "      <th id=\"T_42c03_level0_row3\" class=\"row_heading level0 row3\" >3</th>\n",
       "      <td id=\"T_42c03_row3_col0\" class=\"data row3 col0\" >Original data shape</td>\n",
       "      <td id=\"T_42c03_row3_col1\" class=\"data row3 col1\" >(1338, 7)</td>\n",
       "    </tr>\n",
       "    <tr>\n",
       "      <th id=\"T_42c03_level0_row4\" class=\"row_heading level0 row4\" >4</th>\n",
       "      <td id=\"T_42c03_row4_col0\" class=\"data row4 col0\" >Transformed data shape</td>\n",
       "      <td id=\"T_42c03_row4_col1\" class=\"data row4 col1\" >(1338, 55)</td>\n",
       "    </tr>\n",
       "    <tr>\n",
       "      <th id=\"T_42c03_level0_row5\" class=\"row_heading level0 row5\" >5</th>\n",
       "      <td id=\"T_42c03_row5_col0\" class=\"data row5 col0\" >Transformed train set shape</td>\n",
       "      <td id=\"T_42c03_row5_col1\" class=\"data row5 col1\" >(936, 55)</td>\n",
       "    </tr>\n",
       "    <tr>\n",
       "      <th id=\"T_42c03_level0_row6\" class=\"row_heading level0 row6\" >6</th>\n",
       "      <td id=\"T_42c03_row6_col0\" class=\"data row6 col0\" >Transformed test set shape</td>\n",
       "      <td id=\"T_42c03_row6_col1\" class=\"data row6 col1\" >(402, 55)</td>\n",
       "    </tr>\n",
       "    <tr>\n",
       "      <th id=\"T_42c03_level0_row7\" class=\"row_heading level0 row7\" >7</th>\n",
       "      <td id=\"T_42c03_row7_col0\" class=\"data row7 col0\" >Ordinal features</td>\n",
       "      <td id=\"T_42c03_row7_col1\" class=\"data row7 col1\" >2</td>\n",
       "    </tr>\n",
       "    <tr>\n",
       "      <th id=\"T_42c03_level0_row8\" class=\"row_heading level0 row8\" >8</th>\n",
       "      <td id=\"T_42c03_row8_col0\" class=\"data row8 col0\" >Numeric features</td>\n",
       "      <td id=\"T_42c03_row8_col1\" class=\"data row8 col1\" >3</td>\n",
       "    </tr>\n",
       "    <tr>\n",
       "      <th id=\"T_42c03_level0_row9\" class=\"row_heading level0 row9\" >9</th>\n",
       "      <td id=\"T_42c03_row9_col0\" class=\"data row9 col0\" >Categorical features</td>\n",
       "      <td id=\"T_42c03_row9_col1\" class=\"data row9 col1\" >3</td>\n",
       "    </tr>\n",
       "    <tr>\n",
       "      <th id=\"T_42c03_level0_row10\" class=\"row_heading level0 row10\" >10</th>\n",
       "      <td id=\"T_42c03_row10_col0\" class=\"data row10 col0\" >Preprocess</td>\n",
       "      <td id=\"T_42c03_row10_col1\" class=\"data row10 col1\" >True</td>\n",
       "    </tr>\n",
       "    <tr>\n",
       "      <th id=\"T_42c03_level0_row11\" class=\"row_heading level0 row11\" >11</th>\n",
       "      <td id=\"T_42c03_row11_col0\" class=\"data row11 col0\" >Imputation type</td>\n",
       "      <td id=\"T_42c03_row11_col1\" class=\"data row11 col1\" >simple</td>\n",
       "    </tr>\n",
       "    <tr>\n",
       "      <th id=\"T_42c03_level0_row12\" class=\"row_heading level0 row12\" >12</th>\n",
       "      <td id=\"T_42c03_row12_col0\" class=\"data row12 col0\" >Numeric imputation</td>\n",
       "      <td id=\"T_42c03_row12_col1\" class=\"data row12 col1\" >mean</td>\n",
       "    </tr>\n",
       "    <tr>\n",
       "      <th id=\"T_42c03_level0_row13\" class=\"row_heading level0 row13\" >13</th>\n",
       "      <td id=\"T_42c03_row13_col0\" class=\"data row13 col0\" >Categorical imputation</td>\n",
       "      <td id=\"T_42c03_row13_col1\" class=\"data row13 col1\" >mode</td>\n",
       "    </tr>\n",
       "    <tr>\n",
       "      <th id=\"T_42c03_level0_row14\" class=\"row_heading level0 row14\" >14</th>\n",
       "      <td id=\"T_42c03_row14_col0\" class=\"data row14 col0\" >Maximum one-hot encoding</td>\n",
       "      <td id=\"T_42c03_row14_col1\" class=\"data row14 col1\" >25</td>\n",
       "    </tr>\n",
       "    <tr>\n",
       "      <th id=\"T_42c03_level0_row15\" class=\"row_heading level0 row15\" >15</th>\n",
       "      <td id=\"T_42c03_row15_col0\" class=\"data row15 col0\" >Encoding method</td>\n",
       "      <td id=\"T_42c03_row15_col1\" class=\"data row15 col1\" >None</td>\n",
       "    </tr>\n",
       "    <tr>\n",
       "      <th id=\"T_42c03_level0_row16\" class=\"row_heading level0 row16\" >16</th>\n",
       "      <td id=\"T_42c03_row16_col0\" class=\"data row16 col0\" >Polynomial features</td>\n",
       "      <td id=\"T_42c03_row16_col1\" class=\"data row16 col1\" >True</td>\n",
       "    </tr>\n",
       "    <tr>\n",
       "      <th id=\"T_42c03_level0_row17\" class=\"row_heading level0 row17\" >17</th>\n",
       "      <td id=\"T_42c03_row17_col0\" class=\"data row17 col0\" >Polynomial degree</td>\n",
       "      <td id=\"T_42c03_row17_col1\" class=\"data row17 col1\" >2</td>\n",
       "    </tr>\n",
       "    <tr>\n",
       "      <th id=\"T_42c03_level0_row18\" class=\"row_heading level0 row18\" >18</th>\n",
       "      <td id=\"T_42c03_row18_col0\" class=\"data row18 col0\" >Normalize</td>\n",
       "      <td id=\"T_42c03_row18_col1\" class=\"data row18 col1\" >True</td>\n",
       "    </tr>\n",
       "    <tr>\n",
       "      <th id=\"T_42c03_level0_row19\" class=\"row_heading level0 row19\" >19</th>\n",
       "      <td id=\"T_42c03_row19_col0\" class=\"data row19 col0\" >Normalize method</td>\n",
       "      <td id=\"T_42c03_row19_col1\" class=\"data row19 col1\" >zscore</td>\n",
       "    </tr>\n",
       "    <tr>\n",
       "      <th id=\"T_42c03_level0_row20\" class=\"row_heading level0 row20\" >20</th>\n",
       "      <td id=\"T_42c03_row20_col0\" class=\"data row20 col0\" >Fold Generator</td>\n",
       "      <td id=\"T_42c03_row20_col1\" class=\"data row20 col1\" >KFold</td>\n",
       "    </tr>\n",
       "    <tr>\n",
       "      <th id=\"T_42c03_level0_row21\" class=\"row_heading level0 row21\" >21</th>\n",
       "      <td id=\"T_42c03_row21_col0\" class=\"data row21 col0\" >Fold Number</td>\n",
       "      <td id=\"T_42c03_row21_col1\" class=\"data row21 col1\" >10</td>\n",
       "    </tr>\n",
       "    <tr>\n",
       "      <th id=\"T_42c03_level0_row22\" class=\"row_heading level0 row22\" >22</th>\n",
       "      <td id=\"T_42c03_row22_col0\" class=\"data row22 col0\" >CPU Jobs</td>\n",
       "      <td id=\"T_42c03_row22_col1\" class=\"data row22 col1\" >-1</td>\n",
       "    </tr>\n",
       "    <tr>\n",
       "      <th id=\"T_42c03_level0_row23\" class=\"row_heading level0 row23\" >23</th>\n",
       "      <td id=\"T_42c03_row23_col0\" class=\"data row23 col0\" >Use GPU</td>\n",
       "      <td id=\"T_42c03_row23_col1\" class=\"data row23 col1\" >False</td>\n",
       "    </tr>\n",
       "    <tr>\n",
       "      <th id=\"T_42c03_level0_row24\" class=\"row_heading level0 row24\" >24</th>\n",
       "      <td id=\"T_42c03_row24_col0\" class=\"data row24 col0\" >Log Experiment</td>\n",
       "      <td id=\"T_42c03_row24_col1\" class=\"data row24 col1\" >False</td>\n",
       "    </tr>\n",
       "    <tr>\n",
       "      <th id=\"T_42c03_level0_row25\" class=\"row_heading level0 row25\" >25</th>\n",
       "      <td id=\"T_42c03_row25_col0\" class=\"data row25 col0\" >Experiment Name</td>\n",
       "      <td id=\"T_42c03_row25_col1\" class=\"data row25 col1\" >reg-default-name</td>\n",
       "    </tr>\n",
       "    <tr>\n",
       "      <th id=\"T_42c03_level0_row26\" class=\"row_heading level0 row26\" >26</th>\n",
       "      <td id=\"T_42c03_row26_col0\" class=\"data row26 col0\" >USI</td>\n",
       "      <td id=\"T_42c03_row26_col1\" class=\"data row26 col1\" >c308</td>\n",
       "    </tr>\n",
       "  </tbody>\n",
       "</table>\n"
      ],
      "text/plain": [
       "<pandas.io.formats.style.Styler at 0x1730404f0>"
      ]
     },
     "metadata": {},
     "output_type": "display_data"
    }
   ],
   "source": [
    "#  initiate the pycaret env\n",
    "s1 = setup(insurance, target = 'charges', session_id = 123,\n",
    "           normalize = True,\n",
    "           polynomial_features = True, \n",
    "#            trigonometry_features = True,\n",
    "#            feature_interaction=True,\n",
    "           bin_numeric_features= ['age', 'bmi'])\n"
   ]
  },
  {
   "cell_type": "code",
   "execution_count": 6,
   "id": "53c8eced",
   "metadata": {},
   "outputs": [],
   "source": [
    "# s1[0].columns"
   ]
  },
  {
   "cell_type": "code",
   "execution_count": 7,
   "id": "2f111b26",
   "metadata": {},
   "outputs": [
    {
     "data": {
      "text/html": [],
      "text/plain": [
       "<IPython.core.display.HTML object>"
      ]
     },
     "metadata": {},
     "output_type": "display_data"
    },
    {
     "data": {
      "text/html": [
       "<style type=\"text/css\">\n",
       "#T_f07dc_row10_col0, #T_f07dc_row10_col1, #T_f07dc_row10_col2, #T_f07dc_row10_col3, #T_f07dc_row10_col4, #T_f07dc_row10_col5 {\n",
       "  background: yellow;\n",
       "}\n",
       "</style>\n",
       "<table id=\"T_f07dc\">\n",
       "  <thead>\n",
       "    <tr>\n",
       "      <th class=\"blank level0\" >&nbsp;</th>\n",
       "      <th id=\"T_f07dc_level0_col0\" class=\"col_heading level0 col0\" >MAE</th>\n",
       "      <th id=\"T_f07dc_level0_col1\" class=\"col_heading level0 col1\" >MSE</th>\n",
       "      <th id=\"T_f07dc_level0_col2\" class=\"col_heading level0 col2\" >RMSE</th>\n",
       "      <th id=\"T_f07dc_level0_col3\" class=\"col_heading level0 col3\" >R2</th>\n",
       "      <th id=\"T_f07dc_level0_col4\" class=\"col_heading level0 col4\" >RMSLE</th>\n",
       "      <th id=\"T_f07dc_level0_col5\" class=\"col_heading level0 col5\" >MAPE</th>\n",
       "    </tr>\n",
       "    <tr>\n",
       "      <th class=\"index_name level0\" >Fold</th>\n",
       "      <th class=\"blank col0\" >&nbsp;</th>\n",
       "      <th class=\"blank col1\" >&nbsp;</th>\n",
       "      <th class=\"blank col2\" >&nbsp;</th>\n",
       "      <th class=\"blank col3\" >&nbsp;</th>\n",
       "      <th class=\"blank col4\" >&nbsp;</th>\n",
       "      <th class=\"blank col5\" >&nbsp;</th>\n",
       "    </tr>\n",
       "  </thead>\n",
       "  <tbody>\n",
       "    <tr>\n",
       "      <th id=\"T_f07dc_level0_row0\" class=\"row_heading level0 row0\" >0</th>\n",
       "      <td id=\"T_f07dc_row0_col0\" class=\"data row0 col0\" >3036.3356</td>\n",
       "      <td id=\"T_f07dc_row0_col1\" class=\"data row0 col1\" >21688655.1655</td>\n",
       "      <td id=\"T_f07dc_row0_col2\" class=\"data row0 col2\" >4657.1080</td>\n",
       "      <td id=\"T_f07dc_row0_col3\" class=\"data row0 col3\" >0.8705</td>\n",
       "      <td id=\"T_f07dc_row0_col4\" class=\"data row0 col4\" >0.3980</td>\n",
       "      <td id=\"T_f07dc_row0_col5\" class=\"data row0 col5\" >0.3163</td>\n",
       "    </tr>\n",
       "    <tr>\n",
       "      <th id=\"T_f07dc_level0_row1\" class=\"row_heading level0 row1\" >1</th>\n",
       "      <td id=\"T_f07dc_row1_col0\" class=\"data row1 col0\" >3396.9874</td>\n",
       "      <td id=\"T_f07dc_row1_col1\" class=\"data row1 col1\" >32749652.4740</td>\n",
       "      <td id=\"T_f07dc_row1_col2\" class=\"data row1 col2\" >5722.7312</td>\n",
       "      <td id=\"T_f07dc_row1_col3\" class=\"data row1 col3\" >0.8096</td>\n",
       "      <td id=\"T_f07dc_row1_col4\" class=\"data row1 col4\" >0.4437</td>\n",
       "      <td id=\"T_f07dc_row1_col5\" class=\"data row1 col5\" >0.3116</td>\n",
       "    </tr>\n",
       "    <tr>\n",
       "      <th id=\"T_f07dc_level0_row2\" class=\"row_heading level0 row2\" >2</th>\n",
       "      <td id=\"T_f07dc_row2_col0\" class=\"data row2 col0\" >3093.4780</td>\n",
       "      <td id=\"T_f07dc_row2_col1\" class=\"data row2 col1\" >23029992.1697</td>\n",
       "      <td id=\"T_f07dc_row2_col2\" class=\"data row2 col2\" >4798.9574</td>\n",
       "      <td id=\"T_f07dc_row2_col3\" class=\"data row2 col3\" >0.7084</td>\n",
       "      <td id=\"T_f07dc_row2_col4\" class=\"data row2 col4\" >0.5106</td>\n",
       "      <td id=\"T_f07dc_row2_col5\" class=\"data row2 col5\" >0.3983</td>\n",
       "    </tr>\n",
       "    <tr>\n",
       "      <th id=\"T_f07dc_level0_row3\" class=\"row_heading level0 row3\" >3</th>\n",
       "      <td id=\"T_f07dc_row3_col0\" class=\"data row3 col0\" >2967.8035</td>\n",
       "      <td id=\"T_f07dc_row3_col1\" class=\"data row3 col1\" >20825583.8772</td>\n",
       "      <td id=\"T_f07dc_row3_col2\" class=\"data row3 col2\" >4563.5057</td>\n",
       "      <td id=\"T_f07dc_row3_col3\" class=\"data row3 col3\" >0.8261</td>\n",
       "      <td id=\"T_f07dc_row3_col4\" class=\"data row3 col4\" >0.4590</td>\n",
       "      <td id=\"T_f07dc_row3_col5\" class=\"data row3 col5\" >0.3874</td>\n",
       "    </tr>\n",
       "    <tr>\n",
       "      <th id=\"T_f07dc_level0_row4\" class=\"row_heading level0 row4\" >4</th>\n",
       "      <td id=\"T_f07dc_row4_col0\" class=\"data row4 col0\" >3160.6305</td>\n",
       "      <td id=\"T_f07dc_row4_col1\" class=\"data row4 col1\" >28204374.9614</td>\n",
       "      <td id=\"T_f07dc_row4_col2\" class=\"data row4 col2\" >5310.7791</td>\n",
       "      <td id=\"T_f07dc_row4_col3\" class=\"data row4 col3\" >0.7902</td>\n",
       "      <td id=\"T_f07dc_row4_col4\" class=\"data row4 col4\" >0.5191</td>\n",
       "      <td id=\"T_f07dc_row4_col5\" class=\"data row4 col5\" >0.2983</td>\n",
       "    </tr>\n",
       "    <tr>\n",
       "      <th id=\"T_f07dc_level0_row5\" class=\"row_heading level0 row5\" >5</th>\n",
       "      <td id=\"T_f07dc_row5_col0\" class=\"data row5 col0\" >3178.3925</td>\n",
       "      <td id=\"T_f07dc_row5_col1\" class=\"data row5 col1\" >24132485.3356</td>\n",
       "      <td id=\"T_f07dc_row5_col2\" class=\"data row5 col2\" >4912.4826</td>\n",
       "      <td id=\"T_f07dc_row5_col3\" class=\"data row5 col3\" >0.8448</td>\n",
       "      <td id=\"T_f07dc_row5_col4\" class=\"data row5 col4\" >0.4470</td>\n",
       "      <td id=\"T_f07dc_row5_col5\" class=\"data row5 col5\" >0.3132</td>\n",
       "    </tr>\n",
       "    <tr>\n",
       "      <th id=\"T_f07dc_level0_row6\" class=\"row_heading level0 row6\" >6</th>\n",
       "      <td id=\"T_f07dc_row6_col0\" class=\"data row6 col0\" >2757.6851</td>\n",
       "      <td id=\"T_f07dc_row6_col1\" class=\"data row6 col1\" >21726371.0331</td>\n",
       "      <td id=\"T_f07dc_row6_col2\" class=\"data row6 col2\" >4661.1555</td>\n",
       "      <td id=\"T_f07dc_row6_col3\" class=\"data row6 col3\" >0.8522</td>\n",
       "      <td id=\"T_f07dc_row6_col4\" class=\"data row6 col4\" >0.3732</td>\n",
       "      <td id=\"T_f07dc_row6_col5\" class=\"data row6 col5\" >0.2986</td>\n",
       "    </tr>\n",
       "    <tr>\n",
       "      <th id=\"T_f07dc_level0_row7\" class=\"row_heading level0 row7\" >7</th>\n",
       "      <td id=\"T_f07dc_row7_col0\" class=\"data row7 col0\" >3402.7368</td>\n",
       "      <td id=\"T_f07dc_row7_col1\" class=\"data row7 col1\" >29754978.3666</td>\n",
       "      <td id=\"T_f07dc_row7_col2\" class=\"data row7 col2\" >5454.8124</td>\n",
       "      <td id=\"T_f07dc_row7_col3\" class=\"data row7 col3\" >0.8364</td>\n",
       "      <td id=\"T_f07dc_row7_col4\" class=\"data row7 col4\" >0.4536</td>\n",
       "      <td id=\"T_f07dc_row7_col5\" class=\"data row7 col5\" >0.2928</td>\n",
       "    </tr>\n",
       "    <tr>\n",
       "      <th id=\"T_f07dc_level0_row8\" class=\"row_heading level0 row8\" >8</th>\n",
       "      <td id=\"T_f07dc_row8_col0\" class=\"data row8 col0\" >3240.6564</td>\n",
       "      <td id=\"T_f07dc_row8_col1\" class=\"data row8 col1\" >24661771.7783</td>\n",
       "      <td id=\"T_f07dc_row8_col2\" class=\"data row8 col2\" >4966.0620</td>\n",
       "      <td id=\"T_f07dc_row8_col3\" class=\"data row8 col3\" >0.8407</td>\n",
       "      <td id=\"T_f07dc_row8_col4\" class=\"data row8 col4\" >0.4657</td>\n",
       "      <td id=\"T_f07dc_row8_col5\" class=\"data row8 col5\" >0.3374</td>\n",
       "    </tr>\n",
       "    <tr>\n",
       "      <th id=\"T_f07dc_level0_row9\" class=\"row_heading level0 row9\" >9</th>\n",
       "      <td id=\"T_f07dc_row9_col0\" class=\"data row9 col0\" >3314.9697</td>\n",
       "      <td id=\"T_f07dc_row9_col1\" class=\"data row9 col1\" >28665374.7205</td>\n",
       "      <td id=\"T_f07dc_row9_col2\" class=\"data row9 col2\" >5354.0055</td>\n",
       "      <td id=\"T_f07dc_row9_col3\" class=\"data row9 col3\" >0.8154</td>\n",
       "      <td id=\"T_f07dc_row9_col4\" class=\"data row9 col4\" >0.5063</td>\n",
       "      <td id=\"T_f07dc_row9_col5\" class=\"data row9 col5\" >0.3496</td>\n",
       "    </tr>\n",
       "    <tr>\n",
       "      <th id=\"T_f07dc_level0_row10\" class=\"row_heading level0 row10\" >Mean</th>\n",
       "      <td id=\"T_f07dc_row10_col0\" class=\"data row10 col0\" >3154.9676</td>\n",
       "      <td id=\"T_f07dc_row10_col1\" class=\"data row10 col1\" >25543923.9882</td>\n",
       "      <td id=\"T_f07dc_row10_col2\" class=\"data row10 col2\" >5040.1599</td>\n",
       "      <td id=\"T_f07dc_row10_col3\" class=\"data row10 col3\" >0.8194</td>\n",
       "      <td id=\"T_f07dc_row10_col4\" class=\"data row10 col4\" >0.4576</td>\n",
       "      <td id=\"T_f07dc_row10_col5\" class=\"data row10 col5\" >0.3303</td>\n",
       "    </tr>\n",
       "    <tr>\n",
       "      <th id=\"T_f07dc_level0_row11\" class=\"row_heading level0 row11\" >Std</th>\n",
       "      <td id=\"T_f07dc_row11_col0\" class=\"data row11 col0\" >190.8417</td>\n",
       "      <td id=\"T_f07dc_row11_col1\" class=\"data row11 col1\" >3837534.3970</td>\n",
       "      <td id=\"T_f07dc_row11_col2\" class=\"data row11 col2\" >375.1156</td>\n",
       "      <td id=\"T_f07dc_row11_col3\" class=\"data row11 col3\" >0.0429</td>\n",
       "      <td id=\"T_f07dc_row11_col4\" class=\"data row11 col4\" >0.0448</td>\n",
       "      <td id=\"T_f07dc_row11_col5\" class=\"data row11 col5\" >0.0355</td>\n",
       "    </tr>\n",
       "  </tbody>\n",
       "</table>\n"
      ],
      "text/plain": [
       "<pandas.io.formats.style.Styler at 0x169f51520>"
      ]
     },
     "metadata": {},
     "output_type": "display_data"
    },
    {
     "data": {
      "text/html": [],
      "text/plain": [
       "<IPython.core.display.HTML object>"
      ]
     },
     "metadata": {},
     "output_type": "display_data"
    }
   ],
   "source": [
    "# train a model\n",
    "lr = create_model('lr')\n"
   ]
  },
  {
   "cell_type": "code",
   "execution_count": 8,
   "id": "7290b55f",
   "metadata": {},
   "outputs": [
    {
     "data": {
      "text/html": [],
      "text/plain": [
       "<IPython.core.display.HTML object>"
      ]
     },
     "metadata": {},
     "output_type": "display_data"
    },
    {
     "data": {
      "image/png": "[encoded data removed]",
      "text/plain": [
       "<Figure size 800x550 with 2 Axes>"
      ]
     },
     "metadata": {},
     "output_type": "display_data"
    }
   ],
   "source": [
    "# Plot the model\n",
    "\n",
    "plot_model(lr)"
   ]
  },
  {
   "cell_type": "code",
   "execution_count": 9,
   "id": "40717020",
   "metadata": {},
   "outputs": [
    {
     "name": "stdout",
     "output_type": "stream",
     "text": [
      "Transformation Pipeline and Model Successfully Saved\n"
     ]
    },
    {
     "data": {
      "text/plain": [
       "(Pipeline(memory=Memory(location=None),\n",
       "          steps=[('numerical_imputer',\n",
       "                  TransformerWrapper(include=['age', 'bmi', 'children'],\n",
       "                                     transformer=SimpleImputer())),\n",
       "                 ('categorical_imputer',\n",
       "                  TransformerWrapper(include=['sex', 'smoker', 'region'],\n",
       "                                     transformer=SimpleImputer(strategy='most_frequent'))),\n",
       "                 ('ordinal_encoding',\n",
       "                  TransformerWrapper(include=['sex', 'smoker'],\n",
       "                                     transfor...\n",
       "                                                               use_cat_names=True))),\n",
       "                 ('polynomial_features',\n",
       "                  TransformerWrapper(transformer=PolynomialFeatures(include_bias=False))),\n",
       "                 ('bin_numeric_features',\n",
       "                  TransformerWrapper(include=['age', 'bmi'],\n",
       "                                     transformer=KBinsDiscretizer(encode='ordinal',\n",
       "                                                                  strategy='kmeans'))),\n",
       "                 ('normalize', TransformerWrapper(transformer=StandardScaler())),\n",
       "                 ('trained_model', LinearRegression(n_jobs=-1))]),\n",
       " './Practicing MLOPS/pycaret_deployment.pkl')"
      ]
     },
     "execution_count": 9,
     "metadata": {},
     "output_type": "execute_result"
    }
   ],
   "source": [
    "# save pipeline/model\n",
    "save_model(lr, model_name = './Practicing MLOPS/pycaret_deployment')"
   ]
  },
  {
   "cell_type": "markdown",
   "id": "81c84bfe",
   "metadata": {},
   "source": [
    "A web application that can read our trained pipeline, to predict new data points"
   ]
  },
  {
   "cell_type": "code",
   "execution_count": 3,
   "id": "2deaf987",
   "metadata": {
    "scrolled": true
   },
   "outputs": [
    {
     "name": "stdout",
     "output_type": "stream",
     "text": [
      "Transformation Pipeline and Model Successfully Loaded\n"
     ]
    },
    {
     "data": {
      "text/html": [
       "<style>#sk-container-id-1 {color: black;background-color: white;}#sk-container-id-1 pre{padding: 0;}#sk-container-id-1 div.sk-toggleable {background-color: white;}#sk-container-id-1 label.sk-toggleable__label {cursor: pointer;display: block;width: 100%;margin-bottom: 0;padding: 0.3em;box-sizing: border-box;text-align: center;}#sk-container-id-1 label.sk-toggleable__label-arrow:before {content: \"▸\";float: left;margin-right: 0.25em;color: #696969;}#sk-container-id-1 label.sk-toggleable__label-arrow:hover:before {color: black;}#sk-container-id-1 div.sk-estimator:hover label.sk-toggleable__label-arrow:before {color: black;}#sk-container-id-1 div.sk-toggleable__content {max-height: 0;max-width: 0;overflow: hidden;text-align: left;background-color: #f0f8ff;}#sk-container-id-1 div.sk-toggleable__content pre {margin: 0.2em;color: black;border-radius: 0.25em;background-color: #f0f8ff;}#sk-container-id-1 input.sk-toggleable__control:checked~div.sk-toggleable__content {max-height: 200px;max-width: 100%;overflow: auto;}#sk-container-id-1 input.sk-toggleable__control:checked~label.sk-toggleable__label-arrow:before {content: \"▾\";}#sk-container-id-1 div.sk-estimator input.sk-toggleable__control:checked~label.sk-toggleable__label {background-color: #d4ebff;}#sk-container-id-1 div.sk-label input.sk-toggleable__control:checked~label.sk-toggleable__label {background-color: #d4ebff;}#sk-container-id-1 input.sk-hidden--visually {border: 0;clip: rect(1px 1px 1px 1px);clip: rect(1px, 1px, 1px, 1px);height: 1px;margin: -1px;overflow: hidden;padding: 0;position: absolute;width: 1px;}#sk-container-id-1 div.sk-estimator {font-family: monospace;background-color: #f0f8ff;border: 1px dotted black;border-radius: 0.25em;box-sizing: border-box;margin-bottom: 0.5em;}#sk-container-id-1 div.sk-estimator:hover {background-color: #d4ebff;}#sk-container-id-1 div.sk-parallel-item::after {content: \"\";width: 100%;border-bottom: 1px solid gray;flex-grow: 1;}#sk-container-id-1 div.sk-label:hover label.sk-toggleable__label {background-color: #d4ebff;}#sk-container-id-1 div.sk-serial::before {content: \"\";position: absolute;border-left: 1px solid gray;box-sizing: border-box;top: 0;bottom: 0;left: 50%;z-index: 0;}#sk-container-id-1 div.sk-serial {display: flex;flex-direction: column;align-items: center;background-color: white;padding-right: 0.2em;padding-left: 0.2em;position: relative;}#sk-container-id-1 div.sk-item {position: relative;z-index: 1;}#sk-container-id-1 div.sk-parallel {display: flex;align-items: stretch;justify-content: center;background-color: white;position: relative;}#sk-container-id-1 div.sk-item::before, #sk-container-id-1 div.sk-parallel-item::before {content: \"\";position: absolute;border-left: 1px solid gray;box-sizing: border-box;top: 0;bottom: 0;left: 50%;z-index: -1;}#sk-container-id-1 div.sk-parallel-item {display: flex;flex-direction: column;z-index: 1;position: relative;background-color: white;}#sk-container-id-1 div.sk-parallel-item:first-child::after {align-self: flex-end;width: 50%;}#sk-container-id-1 div.sk-parallel-item:last-child::after {align-self: flex-start;width: 50%;}#sk-container-id-1 div.sk-parallel-item:only-child::after {width: 0;}#sk-container-id-1 div.sk-dashed-wrapped {border: 1px dashed gray;margin: 0 0.4em 0.5em 0.4em;box-sizing: border-box;padding-bottom: 0.4em;background-color: white;}#sk-container-id-1 div.sk-label label {font-family: monospace;font-weight: bold;display: inline-block;line-height: 1.2em;}#sk-container-id-1 div.sk-label-container {text-align: center;}#sk-container-id-1 div.sk-container {/* jupyter's `normalize.less` sets `[hidden] { display: none; }` but bootstrap.min.css set `[hidden] { display: none !important; }` so we also need the `!important` here to be able to override the default hidden behavior on the sphinx rendered scikit-learn.org. See: https://github.com/scikit-learn/scikit-learn/issues/21755 */display: inline-block !important;position: relative;}#sk-container-id-1 div.sk-text-repr-fallback {display: none;}</style><div id=\"sk-container-id-1\" class=\"sk-top-container\"><div class=\"sk-text-repr-fallback\"><pre>Pipeline(memory=Memory(location=None),\n",
       "         steps=[(&#x27;numerical_imputer&#x27;,\n",
       "                 TransformerWrapper(include=[&#x27;age&#x27;, &#x27;bmi&#x27;, &#x27;children&#x27;],\n",
       "                                    transformer=SimpleImputer())),\n",
       "                (&#x27;categorical_imputer&#x27;,\n",
       "                 TransformerWrapper(include=[&#x27;sex&#x27;, &#x27;smoker&#x27;, &#x27;region&#x27;],\n",
       "                                    transformer=SimpleImputer(strategy=&#x27;most_frequent&#x27;))),\n",
       "                (&#x27;ordinal_encoding&#x27;,\n",
       "                 TransformerWrapper(include=[&#x27;sex&#x27;, &#x27;smoker&#x27;],\n",
       "                                    transfor...\n",
       "                                                              use_cat_names=True))),\n",
       "                (&#x27;polynomial_features&#x27;,\n",
       "                 TransformerWrapper(transformer=PolynomialFeatures(include_bias=False))),\n",
       "                (&#x27;bin_numeric_features&#x27;,\n",
       "                 TransformerWrapper(include=[&#x27;age&#x27;, &#x27;bmi&#x27;],\n",
       "                                    transformer=KBinsDiscretizer(encode=&#x27;ordinal&#x27;,\n",
       "                                                                 strategy=&#x27;kmeans&#x27;))),\n",
       "                (&#x27;normalize&#x27;, TransformerWrapper(transformer=StandardScaler())),\n",
       "                (&#x27;trained_model&#x27;, LinearRegression(n_jobs=-1))])</pre><b>In a Jupyter environment, please rerun this cell to show the HTML representation or trust the notebook. <br />On GitHub, the HTML representation is unable to render, please try loading this page with nbviewer.org.</b></div><div class=\"sk-container\" hidden><div class=\"sk-item sk-dashed-wrapped\"><div class=\"sk-label-container\"><div class=\"sk-label sk-toggleable\"><input class=\"sk-toggleable__control sk-hidden--visually\" id=\"sk-estimator-id-1\" type=\"checkbox\" ><label for=\"sk-estimator-id-1\" class=\"sk-toggleable__label sk-toggleable__label-arrow\">Pipeline</label><div class=\"sk-toggleable__content\"><pre>Pipeline(memory=Memory(location=None),\n",
       "         steps=[(&#x27;numerical_imputer&#x27;,\n",
       "                 TransformerWrapper(include=[&#x27;age&#x27;, &#x27;bmi&#x27;, &#x27;children&#x27;],\n",
       "                                    transformer=SimpleImputer())),\n",
       "                (&#x27;categorical_imputer&#x27;,\n",
       "                 TransformerWrapper(include=[&#x27;sex&#x27;, &#x27;smoker&#x27;, &#x27;region&#x27;],\n",
       "                                    transformer=SimpleImputer(strategy=&#x27;most_frequent&#x27;))),\n",
       "                (&#x27;ordinal_encoding&#x27;,\n",
       "                 TransformerWrapper(include=[&#x27;sex&#x27;, &#x27;smoker&#x27;],\n",
       "                                    transfor...\n",
       "                                                              use_cat_names=True))),\n",
       "                (&#x27;polynomial_features&#x27;,\n",
       "                 TransformerWrapper(transformer=PolynomialFeatures(include_bias=False))),\n",
       "                (&#x27;bin_numeric_features&#x27;,\n",
       "                 TransformerWrapper(include=[&#x27;age&#x27;, &#x27;bmi&#x27;],\n",
       "                                    transformer=KBinsDiscretizer(encode=&#x27;ordinal&#x27;,\n",
       "                                                                 strategy=&#x27;kmeans&#x27;))),\n",
       "                (&#x27;normalize&#x27;, TransformerWrapper(transformer=StandardScaler())),\n",
       "                (&#x27;trained_model&#x27;, LinearRegression(n_jobs=-1))])</pre></div></div></div><div class=\"sk-serial\"><div class=\"sk-item sk-dashed-wrapped\"><div class=\"sk-label-container\"><div class=\"sk-label sk-toggleable\"><input class=\"sk-toggleable__control sk-hidden--visually\" id=\"sk-estimator-id-2\" type=\"checkbox\" ><label for=\"sk-estimator-id-2\" class=\"sk-toggleable__label sk-toggleable__label-arrow\">numerical_imputer: TransformerWrapper</label><div class=\"sk-toggleable__content\"><pre>TransformerWrapper(include=[&#x27;age&#x27;, &#x27;bmi&#x27;, &#x27;children&#x27;],\n",
       "                   transformer=SimpleImputer())</pre></div></div></div><div class=\"sk-parallel\"><div class=\"sk-parallel-item\"><div class=\"sk-item\"><div class=\"sk-label-container\"><div class=\"sk-label sk-toggleable\"><input class=\"sk-toggleable__control sk-hidden--visually\" id=\"sk-estimator-id-3\" type=\"checkbox\" ><label for=\"sk-estimator-id-3\" class=\"sk-toggleable__label sk-toggleable__label-arrow\">transformer: SimpleImputer</label><div class=\"sk-toggleable__content\"><pre>SimpleImputer()</pre></div></div></div><div class=\"sk-serial\"><div class=\"sk-item\"><div class=\"sk-estimator sk-toggleable\"><input class=\"sk-toggleable__control sk-hidden--visually\" id=\"sk-estimator-id-4\" type=\"checkbox\" ><label for=\"sk-estimator-id-4\" class=\"sk-toggleable__label sk-toggleable__label-arrow\">SimpleImputer</label><div class=\"sk-toggleable__content\"><pre>SimpleImputer()</pre></div></div></div></div></div></div></div></div><div class=\"sk-item sk-dashed-wrapped\"><div class=\"sk-label-container\"><div class=\"sk-label sk-toggleable\"><input class=\"sk-toggleable__control sk-hidden--visually\" id=\"sk-estimator-id-5\" type=\"checkbox\" ><label for=\"sk-estimator-id-5\" class=\"sk-toggleable__label sk-toggleable__label-arrow\">categorical_imputer: TransformerWrapper</label><div class=\"sk-toggleable__content\"><pre>TransformerWrapper(include=[&#x27;sex&#x27;, &#x27;smoker&#x27;, &#x27;region&#x27;],\n",
       "                   transformer=SimpleImputer(strategy=&#x27;most_frequent&#x27;))</pre></div></div></div><div class=\"sk-parallel\"><div class=\"sk-parallel-item\"><div class=\"sk-item\"><div class=\"sk-label-container\"><div class=\"sk-label sk-toggleable\"><input class=\"sk-toggleable__control sk-hidden--visually\" id=\"sk-estimator-id-6\" type=\"checkbox\" ><label for=\"sk-estimator-id-6\" class=\"sk-toggleable__label sk-toggleable__label-arrow\">transformer: SimpleImputer</label><div class=\"sk-toggleable__content\"><pre>SimpleImputer(strategy=&#x27;most_frequent&#x27;)</pre></div></div></div><div class=\"sk-serial\"><div class=\"sk-item\"><div class=\"sk-estimator sk-toggleable\"><input class=\"sk-toggleable__control sk-hidden--visually\" id=\"sk-estimator-id-7\" type=\"checkbox\" ><label for=\"sk-estimator-id-7\" class=\"sk-toggleable__label sk-toggleable__label-arrow\">SimpleImputer</label><div class=\"sk-toggleable__content\"><pre>SimpleImputer(strategy=&#x27;most_frequent&#x27;)</pre></div></div></div></div></div></div></div></div><div class=\"sk-item sk-dashed-wrapped\"><div class=\"sk-label-container\"><div class=\"sk-label sk-toggleable\"><input class=\"sk-toggleable__control sk-hidden--visually\" id=\"sk-estimator-id-8\" type=\"checkbox\" ><label for=\"sk-estimator-id-8\" class=\"sk-toggleable__label sk-toggleable__label-arrow\">ordinal_encoding: TransformerWrapper</label><div class=\"sk-toggleable__content\"><pre>TransformerWrapper(include=[&#x27;sex&#x27;, &#x27;smoker&#x27;],\n",
       "                   transformer=OrdinalEncoder(cols=[&#x27;sex&#x27;, &#x27;smoker&#x27;],\n",
       "                                              handle_missing=&#x27;return_nan&#x27;,\n",
       "                                              mapping=[{&#x27;col&#x27;: &#x27;sex&#x27;,\n",
       "                                                        &#x27;data_type&#x27;: dtype(&#x27;O&#x27;),\n",
       "                                                        &#x27;mapping&#x27;: female    0\n",
       "male      1\n",
       "NaN      -1\n",
       "dtype: int64},\n",
       "                                                       {&#x27;col&#x27;: &#x27;smoker&#x27;,\n",
       "                                                        &#x27;data_type&#x27;: dtype(&#x27;O&#x27;),\n",
       "                                                        &#x27;mapping&#x27;: no     0\n",
       "yes    1\n",
       "NaN   -1\n",
       "dtype: int64}]))</pre></div></div></div><div class=\"sk-parallel\"><div class=\"sk-parallel-item\"><div class=\"sk-item\"><div class=\"sk-label-container\"><div class=\"sk-label sk-toggleable\"><input class=\"sk-toggleable__control sk-hidden--visually\" id=\"sk-estimator-id-9\" type=\"checkbox\" ><label for=\"sk-estimator-id-9\" class=\"sk-toggleable__label sk-toggleable__label-arrow\">transformer: OrdinalEncoder</label><div class=\"sk-toggleable__content\"><pre>OrdinalEncoder(cols=[&#x27;sex&#x27;, &#x27;smoker&#x27;], handle_missing=&#x27;return_nan&#x27;,\n",
       "               mapping=[{&#x27;col&#x27;: &#x27;sex&#x27;, &#x27;data_type&#x27;: dtype(&#x27;O&#x27;),\n",
       "                         &#x27;mapping&#x27;: female    0\n",
       "male      1\n",
       "NaN      -1\n",
       "dtype: int64},\n",
       "                        {&#x27;col&#x27;: &#x27;smoker&#x27;, &#x27;data_type&#x27;: dtype(&#x27;O&#x27;),\n",
       "                         &#x27;mapping&#x27;: no     0\n",
       "yes    1\n",
       "NaN   -1\n",
       "dtype: int64}])</pre></div></div></div><div class=\"sk-serial\"><div class=\"sk-item\"><div class=\"sk-estimator sk-toggleable\"><input class=\"sk-toggleable__control sk-hidden--visually\" id=\"sk-estimator-id-10\" type=\"checkbox\" ><label for=\"sk-estimator-id-10\" class=\"sk-toggleable__label sk-toggleable__label-arrow\">OrdinalEncoder</label><div class=\"sk-toggleable__content\"><pre>OrdinalEncoder(cols=[&#x27;sex&#x27;, &#x27;smoker&#x27;], handle_missing=&#x27;return_nan&#x27;,\n",
       "               mapping=[{&#x27;col&#x27;: &#x27;sex&#x27;, &#x27;data_type&#x27;: dtype(&#x27;O&#x27;),\n",
       "                         &#x27;mapping&#x27;: female    0\n",
       "male      1\n",
       "NaN      -1\n",
       "dtype: int64},\n",
       "                        {&#x27;col&#x27;: &#x27;smoker&#x27;, &#x27;data_type&#x27;: dtype(&#x27;O&#x27;),\n",
       "                         &#x27;mapping&#x27;: no     0\n",
       "yes    1\n",
       "NaN   -1\n",
       "dtype: int64}])</pre></div></div></div></div></div></div></div></div><div class=\"sk-item sk-dashed-wrapped\"><div class=\"sk-label-container\"><div class=\"sk-label sk-toggleable\"><input class=\"sk-toggleable__control sk-hidden--visually\" id=\"sk-estimator-id-11\" type=\"checkbox\" ><label for=\"sk-estimator-id-11\" class=\"sk-toggleable__label sk-toggleable__label-arrow\">onehot_encoding: TransformerWrapper</label><div class=\"sk-toggleable__content\"><pre>TransformerWrapper(include=[&#x27;region&#x27;],\n",
       "                   transformer=OneHotEncoder(cols=[&#x27;region&#x27;],\n",
       "                                             handle_missing=&#x27;return_nan&#x27;,\n",
       "                                             use_cat_names=True))</pre></div></div></div><div class=\"sk-parallel\"><div class=\"sk-parallel-item\"><div class=\"sk-item\"><div class=\"sk-label-container\"><div class=\"sk-label sk-toggleable\"><input class=\"sk-toggleable__control sk-hidden--visually\" id=\"sk-estimator-id-12\" type=\"checkbox\" ><label for=\"sk-estimator-id-12\" class=\"sk-toggleable__label sk-toggleable__label-arrow\">transformer: OneHotEncoder</label><div class=\"sk-toggleable__content\"><pre>OneHotEncoder(cols=[&#x27;region&#x27;], handle_missing=&#x27;return_nan&#x27;, use_cat_names=True)</pre></div></div></div><div class=\"sk-serial\"><div class=\"sk-item\"><div class=\"sk-estimator sk-toggleable\"><input class=\"sk-toggleable__control sk-hidden--visually\" id=\"sk-estimator-id-13\" type=\"checkbox\" ><label for=\"sk-estimator-id-13\" class=\"sk-toggleable__label sk-toggleable__label-arrow\">OneHotEncoder</label><div class=\"sk-toggleable__content\"><pre>OneHotEncoder(cols=[&#x27;region&#x27;], handle_missing=&#x27;return_nan&#x27;, use_cat_names=True)</pre></div></div></div></div></div></div></div></div><div class=\"sk-item sk-dashed-wrapped\"><div class=\"sk-label-container\"><div class=\"sk-label sk-toggleable\"><input class=\"sk-toggleable__control sk-hidden--visually\" id=\"sk-estimator-id-14\" type=\"checkbox\" ><label for=\"sk-estimator-id-14\" class=\"sk-toggleable__label sk-toggleable__label-arrow\">polynomial_features: TransformerWrapper</label><div class=\"sk-toggleable__content\"><pre>TransformerWrapper(transformer=PolynomialFeatures(include_bias=False))</pre></div></div></div><div class=\"sk-parallel\"><div class=\"sk-parallel-item\"><div class=\"sk-item\"><div class=\"sk-label-container\"><div class=\"sk-label sk-toggleable\"><input class=\"sk-toggleable__control sk-hidden--visually\" id=\"sk-estimator-id-15\" type=\"checkbox\" ><label for=\"sk-estimator-id-15\" class=\"sk-toggleable__label sk-toggleable__label-arrow\">transformer: PolynomialFeatures</label><div class=\"sk-toggleable__content\"><pre>PolynomialFeatures(include_bias=False)</pre></div></div></div><div class=\"sk-serial\"><div class=\"sk-item\"><div class=\"sk-estimator sk-toggleable\"><input class=\"sk-toggleable__control sk-hidden--visually\" id=\"sk-estimator-id-16\" type=\"checkbox\" ><label for=\"sk-estimator-id-16\" class=\"sk-toggleable__label sk-toggleable__label-arrow\">PolynomialFeatures</label><div class=\"sk-toggleable__content\"><pre>PolynomialFeatures(include_bias=False)</pre></div></div></div></div></div></div></div></div><div class=\"sk-item sk-dashed-wrapped\"><div class=\"sk-label-container\"><div class=\"sk-label sk-toggleable\"><input class=\"sk-toggleable__control sk-hidden--visually\" id=\"sk-estimator-id-17\" type=\"checkbox\" ><label for=\"sk-estimator-id-17\" class=\"sk-toggleable__label sk-toggleable__label-arrow\">bin_numeric_features: TransformerWrapper</label><div class=\"sk-toggleable__content\"><pre>TransformerWrapper(include=[&#x27;age&#x27;, &#x27;bmi&#x27;],\n",
       "                   transformer=KBinsDiscretizer(encode=&#x27;ordinal&#x27;,\n",
       "                                                strategy=&#x27;kmeans&#x27;))</pre></div></div></div><div class=\"sk-parallel\"><div class=\"sk-parallel-item\"><div class=\"sk-item\"><div class=\"sk-label-container\"><div class=\"sk-label sk-toggleable\"><input class=\"sk-toggleable__control sk-hidden--visually\" id=\"sk-estimator-id-18\" type=\"checkbox\" ><label for=\"sk-estimator-id-18\" class=\"sk-toggleable__label sk-toggleable__label-arrow\">transformer: KBinsDiscretizer</label><div class=\"sk-toggleable__content\"><pre>KBinsDiscretizer(encode=&#x27;ordinal&#x27;, strategy=&#x27;kmeans&#x27;)</pre></div></div></div><div class=\"sk-serial\"><div class=\"sk-item\"><div class=\"sk-estimator sk-toggleable\"><input class=\"sk-toggleable__control sk-hidden--visually\" id=\"sk-estimator-id-19\" type=\"checkbox\" ><label for=\"sk-estimator-id-19\" class=\"sk-toggleable__label sk-toggleable__label-arrow\">KBinsDiscretizer</label><div class=\"sk-toggleable__content\"><pre>KBinsDiscretizer(encode=&#x27;ordinal&#x27;, strategy=&#x27;kmeans&#x27;)</pre></div></div></div></div></div></div></div></div><div class=\"sk-item sk-dashed-wrapped\"><div class=\"sk-label-container\"><div class=\"sk-label sk-toggleable\"><input class=\"sk-toggleable__control sk-hidden--visually\" id=\"sk-estimator-id-20\" type=\"checkbox\" ><label for=\"sk-estimator-id-20\" class=\"sk-toggleable__label sk-toggleable__label-arrow\">normalize: TransformerWrapper</label><div class=\"sk-toggleable__content\"><pre>TransformerWrapper(transformer=StandardScaler())</pre></div></div></div><div class=\"sk-parallel\"><div class=\"sk-parallel-item\"><div class=\"sk-item\"><div class=\"sk-label-container\"><div class=\"sk-label sk-toggleable\"><input class=\"sk-toggleable__control sk-hidden--visually\" id=\"sk-estimator-id-21\" type=\"checkbox\" ><label for=\"sk-estimator-id-21\" class=\"sk-toggleable__label sk-toggleable__label-arrow\">transformer: StandardScaler</label><div class=\"sk-toggleable__content\"><pre>StandardScaler()</pre></div></div></div><div class=\"sk-serial\"><div class=\"sk-item\"><div class=\"sk-estimator sk-toggleable\"><input class=\"sk-toggleable__control sk-hidden--visually\" id=\"sk-estimator-id-22\" type=\"checkbox\" ><label for=\"sk-estimator-id-22\" class=\"sk-toggleable__label sk-toggleable__label-arrow\">StandardScaler</label><div class=\"sk-toggleable__content\"><pre>StandardScaler()</pre></div></div></div></div></div></div></div></div><div class=\"sk-item\"><div class=\"sk-estimator sk-toggleable\"><input class=\"sk-toggleable__control sk-hidden--visually\" id=\"sk-estimator-id-23\" type=\"checkbox\" ><label for=\"sk-estimator-id-23\" class=\"sk-toggleable__label sk-toggleable__label-arrow\">LinearRegression</label><div class=\"sk-toggleable__content\"><pre>LinearRegression(n_jobs=-1)</pre></div></div></div></div></div></div></div>"
      ],
      "text/plain": [
       "Pipeline(memory=Memory(location=None),\n",
       "         steps=[('numerical_imputer',\n",
       "                 TransformerWrapper(include=['age', 'bmi', 'children'],\n",
       "                                    transformer=SimpleImputer())),\n",
       "                ('categorical_imputer',\n",
       "                 TransformerWrapper(include=['sex', 'smoker', 'region'],\n",
       "                                    transformer=SimpleImputer(strategy='most_frequent'))),\n",
       "                ('ordinal_encoding',\n",
       "                 TransformerWrapper(include=['sex', 'smoker'],\n",
       "                                    transfor...\n",
       "                                                              use_cat_names=True))),\n",
       "                ('polynomial_features',\n",
       "                 TransformerWrapper(transformer=PolynomialFeatures(include_bias=False))),\n",
       "                ('bin_numeric_features',\n",
       "                 TransformerWrapper(include=['age', 'bmi'],\n",
       "                                    transformer=KBinsDiscretizer(encode='ordinal',\n",
       "                                                                 strategy='kmeans'))),\n",
       "                ('normalize', TransformerWrapper(transformer=StandardScaler())),\n",
       "                ('trained_model', LinearRegression(n_jobs=-1))])"
      ]
     },
     "execution_count": 3,
     "metadata": {},
     "output_type": "execute_result"
    }
   ],
   "source": [
    "# Load teh mdoel\n",
    "\n",
    "\n",
    "model = load_model('./Practicing MLOPS/pycaret_deployment')\n",
    "\n",
    "# To see the pipeline and model\n",
    "model"
   ]
  },
  {
   "cell_type": "code",
   "execution_count": null,
   "id": "8a3315d2",
   "metadata": {},
   "outputs": [],
   "source": []
  },
  {
   "cell_type": "code",
   "execution_count": 4,
   "id": "ccc03e17",
   "metadata": {},
   "outputs": [],
   "source": [
    "# Create a sample input as a dictionary\n",
    "sample_input = {\n",
    "    'age': 30,\n",
    "    'sex': 'female',\n",
    "    'bmi': 25.5,\n",
    "    'children': 2,\n",
    "    'smoker': 'yes',\n",
    "    'region': 'southeast'\n",
    "}\n",
    "\n",
    "# Convert the sample input dictionary to a DataFrame\n",
    "sample_input_df = pd.DataFrame([sample_input])\n",
    "\n",
    "# Ensure the DataFrame columns match your model's feature names\n",
    "# You might need to adjust this part to match your actual feature names\n",
    "sample_input_df = sample_input_df[['age', 'sex', 'bmi', 'children', 'smoker', 'region']]\n",
    "\n",
    "\n",
    "\n",
    "# model = load_model('./Practicing MLOPS/pycaret_deployment')\n",
    "predicted_result = predict_model(model, data=sample_input_df)"
   ]
  },
  {
   "cell_type": "code",
   "execution_count": 5,
   "id": "2b32a844",
   "metadata": {},
   "outputs": [
    {
     "data": {
      "text/html": [
       "<div>\n",
       "<style scoped>\n",
       "    .dataframe tbody tr th:only-of-type {\n",
       "        vertical-align: middle;\n",
       "    }\n",
       "\n",
       "    .dataframe tbody tr th {\n",
       "        vertical-align: top;\n",
       "    }\n",
       "\n",
       "    .dataframe thead th {\n",
       "        text-align: right;\n",
       "    }\n",
       "</style>\n",
       "<table border=\"1\" class=\"dataframe\">\n",
       "  <thead>\n",
       "    <tr style=\"text-align: right;\">\n",
       "      <th></th>\n",
       "      <th>age</th>\n",
       "      <th>sex</th>\n",
       "      <th>bmi</th>\n",
       "      <th>children</th>\n",
       "      <th>smoker</th>\n",
       "      <th>region</th>\n",
       "    </tr>\n",
       "  </thead>\n",
       "  <tbody>\n",
       "    <tr>\n",
       "      <th>0</th>\n",
       "      <td>30</td>\n",
       "      <td>female</td>\n",
       "      <td>25.5</td>\n",
       "      <td>2</td>\n",
       "      <td>yes</td>\n",
       "      <td>southeast</td>\n",
       "    </tr>\n",
       "  </tbody>\n",
       "</table>\n",
       "</div>"
      ],
      "text/plain": [
       "   age     sex   bmi  children smoker     region\n",
       "0   30  female  25.5         2    yes  southeast"
      ]
     },
     "execution_count": 5,
     "metadata": {},
     "output_type": "execute_result"
    }
   ],
   "source": [
    "sample_input_df"
   ]
  },
  {
   "cell_type": "code",
   "execution_count": 6,
   "id": "0cd4c452",
   "metadata": {},
   "outputs": [
    {
     "data": {
      "text/html": [
       "<div>\n",
       "<style scoped>\n",
       "    .dataframe tbody tr th:only-of-type {\n",
       "        vertical-align: middle;\n",
       "    }\n",
       "\n",
       "    .dataframe tbody tr th {\n",
       "        vertical-align: top;\n",
       "    }\n",
       "\n",
       "    .dataframe thead th {\n",
       "        text-align: right;\n",
       "    }\n",
       "</style>\n",
       "<table border=\"1\" class=\"dataframe\">\n",
       "  <thead>\n",
       "    <tr style=\"text-align: right;\">\n",
       "      <th></th>\n",
       "      <th>age</th>\n",
       "      <th>sex</th>\n",
       "      <th>bmi</th>\n",
       "      <th>children</th>\n",
       "      <th>smoker</th>\n",
       "      <th>region</th>\n",
       "      <th>prediction_label</th>\n",
       "    </tr>\n",
       "  </thead>\n",
       "  <tbody>\n",
       "    <tr>\n",
       "      <th>0</th>\n",
       "      <td>30</td>\n",
       "      <td>female</td>\n",
       "      <td>25.5</td>\n",
       "      <td>2</td>\n",
       "      <td>yes</td>\n",
       "      <td>southeast</td>\n",
       "      <td>20458.953132</td>\n",
       "    </tr>\n",
       "  </tbody>\n",
       "</table>\n",
       "</div>"
      ],
      "text/plain": [
       "   age     sex   bmi  children smoker     region  prediction_label\n",
       "0   30  female  25.5         2    yes  southeast      20458.953132"
      ]
     },
     "execution_count": 6,
     "metadata": {},
     "output_type": "execute_result"
    }
   ],
   "source": [
    "predicted_result"
   ]
  },
  {
   "cell_type": "code",
   "execution_count": 7,
   "id": "d24c82d8",
   "metadata": {},
   "outputs": [
    {
     "name": "stdout",
     "output_type": "stream",
     "text": [
      "Predicted Value: 20458.95313238213\n"
     ]
    }
   ],
   "source": [
    "prediction_value = predicted_result['prediction_label'][0]\n",
    "print(f'Predicted Value: {prediction_value}')"
   ]
  },
  {
   "cell_type": "code",
   "execution_count": null,
   "id": "64e1ebdb",
   "metadata": {},
   "outputs": [],
   "source": [
    "\n"
   ]
  },
  {
   "cell_type": "code",
   "execution_count": null,
   "id": "5f67cab5",
   "metadata": {},
   "outputs": [],
   "source": []
  },
  {
   "cell_type": "code",
   "execution_count": null,
   "id": "97b44537",
   "metadata": {},
   "outputs": [],
   "source": []
  },
  {
   "cell_type": "code",
   "execution_count": null,
   "id": "fdd08940",
   "metadata": {},
   "outputs": [],
   "source": []
  },
  {
   "cell_type": "code",
   "execution_count": null,
   "id": "1ccb376a",
   "metadata": {},
   "outputs": [],
   "source": []
  }
 ],
 "metadata": {
  "kernelspec": {
   "display_name": "python3_8",
   "language": "python",
   "name": "python3_8"
  },
  "language_info": {
   "codemirror_mode": {
    "name": "ipython",
    "version": 3
   },
   "file_extension": ".py",
   "mimetype": "text/x-python",
   "name": "python",
   "nbconvert_exporter": "python",
   "pygments_lexer": "ipython3",
   "version": "3.8.18"
  }
 },
 "nbformat": 4,
 "nbformat_minor": 5
}
